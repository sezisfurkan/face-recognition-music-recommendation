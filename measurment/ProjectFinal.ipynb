{
  "nbformat": 4,
  "nbformat_minor": 0,
  "metadata": {
    "colab": {
      "provenance": []
    },
    "kernelspec": {
      "name": "python3",
      "display_name": "Python 3"
    },
    "language_info": {
      "name": "python"
    },
    "accelerator": "GPU",
    "gpuClass": "standard"
  },
  "cells": [
    {
      "cell_type": "code",
      "execution_count": null,
      "metadata": {
        "colab": {
          "base_uri": "https://localhost:8080/"
        },
        "id": "2NWmODJ3QXOB",
        "outputId": "32ffccf7-9d9e-46cc-ba30-20e4ef54db56"
      },
      "outputs": [
        {
          "output_type": "stream",
          "name": "stdout",
          "text": [
            "Drive already mounted at /content/drive; to attempt to forcibly remount, call drive.mount(\"/content/drive\", force_remount=True).\n"
          ]
        }
      ],
      "source": [
        "from google.colab import drive\n",
        "drive.mount('/content/drive')"
      ]
    },
    {
      "cell_type": "code",
      "source": [
        "import tensorflow as tf\n",
        "import cv2\n",
        "import os\n",
        "import matplotlib.pyplot as plt\n",
        "import numpy as np"
      ],
      "metadata": {
        "id": "NR3aQYJHQh2d"
      },
      "execution_count": null,
      "outputs": []
    },
    {
      "cell_type": "code",
      "source": [
        "mypath = \"/content/drive/MyDrive/Kaggle/dataset/data/train/angry/Training_3908.jpg\"\n",
        "img_array = cv2.imread(mypath)"
      ],
      "metadata": {
        "id": "cSSI2r1XQkRa"
      },
      "execution_count": null,
      "outputs": []
    },
    {
      "cell_type": "code",
      "source": [
        "img_array.shape"
      ],
      "metadata": {
        "colab": {
          "base_uri": "https://localhost:8080/"
        },
        "id": "x3196LD7QmuM",
        "outputId": "54abcb6b-774a-4549-e0b0-56ceafa1926f"
      },
      "execution_count": null,
      "outputs": [
        {
          "output_type": "execute_result",
          "data": {
            "text/plain": [
              "(48, 48, 3)"
            ]
          },
          "metadata": {},
          "execution_count": 4
        }
      ]
    },
    {
      "cell_type": "code",
      "source": [
        "plt.imshow(img_array)"
      ],
      "metadata": {
        "colab": {
          "base_uri": "https://localhost:8080/",
          "height": 284
        },
        "id": "RlM7Z7tWQm-i",
        "outputId": "8e3efe99-8cd9-4663-d278-46fd73898844"
      },
      "execution_count": null,
      "outputs": [
        {
          "output_type": "execute_result",
          "data": {
            "text/plain": [
              "<matplotlib.image.AxesImage at 0x7fbbb9b0cbb0>"
            ]
          },
          "metadata": {},
          "execution_count": 5
        },
        {
          "output_type": "display_data",
          "data": {
            "text/plain": [
              "<Figure size 432x288 with 1 Axes>"
            ],
            "image/png": "[encoded data removed]"
          },
          "metadata": {
            "needs_background": "light"
          }
        }
      ]
    },
    {
      "cell_type": "code",
      "source": [
        "DATADIR = \"/content/drive/MyDrive/Kaggle/dataset/data/train\""
      ],
      "metadata": {
        "id": "cY-QglQKQnFk"
      },
      "execution_count": null,
      "outputs": []
    },
    {
      "cell_type": "code",
      "source": [
        "MOODS = [\"angry\", \"disgust\", \"fear\", \"happy\", \"neutral\", \"sad\", \"surprise\"]"
      ],
      "metadata": {
        "id": "G17KNj5WQnJd"
      },
      "execution_count": null,
      "outputs": []
    },
    {
      "cell_type": "code",
      "source": [
        "for category in MOODS:\n",
        "    path = os.path.join(DATADIR, category)\n",
        "    for img in os.listdir(path):\n",
        "        img_array = cv2.imread(os.path.join(path, img))\n",
        "        plt.imshow(cv2.cvtColor(img_array, cv2.COLOR_BGR2RGB))\n",
        "        plt.show()\n",
        "        break\n",
        "    break    "
      ],
      "metadata": {
        "colab": {
          "base_uri": "https://localhost:8080/",
          "height": 267
        },
        "id": "bMui-iiwQnQk",
        "outputId": "bd3a9477-c853-4cb9-fe79-b183f2de1bad"
      },
      "execution_count": null,
      "outputs": [
        {
          "output_type": "display_data",
          "data": {
            "text/plain": [
              "<Figure size 432x288 with 1 Axes>"
            ],
            "image/png": "[encoded data removed]"
          },
          "metadata": {
            "needs_background": "light"
          }
        }
      ]
    },
    {
      "cell_type": "code",
      "source": [
        "IMG_SIZE = 128\n",
        "new_array = cv2.resize(img_array, (IMG_SIZE, IMG_SIZE))\n",
        "plt.imshow(cv2.cvtColor(new_array, cv2.COLOR_BGR2RGB))\n",
        "plt.show()"
      ],
      "metadata": {
        "colab": {
          "base_uri": "https://localhost:8080/",
          "height": 268
        },
        "id": "vru1vEsSQy_v",
        "outputId": "b656ead7-c27b-48f8-c59f-54d6db1dc9d0"
      },
      "execution_count": null,
      "outputs": [
        {
          "output_type": "display_data",
          "data": {
            "text/plain": [
              "<Figure size 432x288 with 1 Axes>"
            ],
            "image/png": "[encoded data removed]"
          },
          "metadata": {
            "needs_background": "light"
          }
        }
      ]
    },
    {
      "cell_type": "code",
      "source": [
        "new_array.shape"
      ],
      "metadata": {
        "colab": {
          "base_uri": "https://localhost:8080/"
        },
        "id": "YqBlXDqLQ1sP",
        "outputId": "9824245f-ad76-452d-c021-4dc449a677d8"
      },
      "execution_count": null,
      "outputs": [
        {
          "output_type": "execute_result",
          "data": {
            "text/plain": [
              "(128, 128, 3)"
            ]
          },
          "metadata": {},
          "execution_count": 10
        }
      ]
    },
    {
      "cell_type": "code",
      "source": [
        "training_data = []\n",
        "\n",
        "def create_training_data():\n",
        "    for category in MOODS:\n",
        "        path = os.path.join(DATADIR, category)\n",
        "        class_num = MOODS.index(category)\n",
        "        for img in os.listdir(path):\n",
        "            try:\n",
        "                img_array = cv2.imread(os.path.join(path, img))\n",
        "                new_array = cv2.resize(img_array, (IMG_SIZE, IMG_SIZE))\n",
        "                training_data.append([new_array, class_num])\n",
        "            except Exception as e:\n",
        "                pass\n",
        "            \n",
        "create_training_data()            "
      ],
      "metadata": {
        "id": "s5UDoKWVQ3Kp"
      },
      "execution_count": null,
      "outputs": []
    },
    {
      "cell_type": "code",
      "source": [
        "print(len(training_data))"
      ],
      "metadata": {
        "colab": {
          "base_uri": "https://localhost:8080/"
        },
        "id": "Ej1i46cjQ7VC",
        "outputId": "c4345fe6-5afd-45f3-ee90-d3ce5f7e85e3"
      },
      "execution_count": null,
      "outputs": [
        {
          "output_type": "stream",
          "name": "stdout",
          "text": [
            "28709\n"
          ]
        }
      ]
    },
    {
      "cell_type": "code",
      "source": [
        "import random\n",
        "\n",
        "random.shuffle(training_data)\n",
        "\n",
        "for sample in training_data[:6]:\n",
        "    print(sample[1])"
      ],
      "metadata": {
        "colab": {
          "base_uri": "https://localhost:8080/"
        },
        "id": "k6YeMh3MQ7oz",
        "outputId": "65492e84-827d-4b97-ccc2-1ef9f9efa5dd"
      },
      "execution_count": null,
      "outputs": [
        {
          "output_type": "stream",
          "name": "stdout",
          "text": [
            "5\n",
            "5\n",
            "6\n",
            "6\n",
            "0\n",
            "3\n"
          ]
        }
      ]
    },
    {
      "cell_type": "code",
      "source": [
        "X = []\n",
        "y = []\n",
        "\n",
        "for features, label in training_data:\n",
        "    X.append(features)\n",
        "    y.append(label)\n",
        "\n",
        "X = np.array(X).reshape(-1, IMG_SIZE, IMG_SIZE, 1) \n",
        " "
      ],
      "metadata": {
        "id": "UQ-2hqE9Q9G6"
      },
      "execution_count": null,
      "outputs": []
    },
    {
      "cell_type": "code",
      "source": [
        "from tensorflow.keras.models import Sequential\n",
        "from tensorflow.keras.layers import Dense, Dropout, Flatten\n",
        "from tensorflow.keras.layers import Conv2D\n",
        "from tensorflow.keras.optimizers import Adam, RMSprop\n",
        "from tensorflow.keras.layers import MaxPooling2D\n",
        "from tensorflow.keras.preprocessing.image import ImageDataGenerator"
      ],
      "metadata": {
        "id": "Y_reHD2oQ-ap"
      },
      "execution_count": null,
      "outputs": []
    },
    {
      "cell_type": "code",
      "source": [
        "model = Sequential()\n",
        "\n",
        "model.add(Conv2D(32, (3, 3), padding='same', activation='relu', input_shape=(128, 128, 1)))\n",
        "model.add(MaxPooling2D(pool_size=(2, 2)))\n",
        "\n",
        "model.add(Conv2D(64, (3, 3), padding='same', activation='relu'))\n",
        "model.add(Conv2D(64, (3, 3), padding='same', activation='relu'))\n",
        "model.add(MaxPooling2D(pool_size=(2, 2)))\n",
        "\n",
        "model.add(Conv2D(128, (3, 3), padding='same', activation='relu'))\n",
        "model.add(Conv2D(128, (3, 3), padding='same', activation='relu'))\n",
        "model.add(MaxPooling2D(pool_size=(2, 2)))\n",
        "\n",
        "model.add(Conv2D(256, (3, 3), padding='same', activation='relu'))\n",
        "model.add(Conv2D(256, (3, 3), padding='same', activation='relu'))\n",
        "model.add(Conv2D(256, (3, 3), padding='same', activation='relu'))\n",
        "model.add(MaxPooling2D(pool_size=(2, 2)))\n",
        "\n",
        "model.add(Flatten())\n",
        "\n",
        "model.add(Dense(512, activation='relu'))\n",
        "model.add(Dropout(0.5))\n",
        "model.add(Dense(512, activation='relu'))\n",
        "model.add(Dropout(0.5))\n",
        "\n",
        "model.add(Dense(7, activation='softmax'))\n",
        "\n",
        "\n",
        "model.compile(loss='categorical_crossentropy', optimizer='Adam', metrics=['accuracy'])\n",
        "model.summary()"
      ],
      "metadata": {
        "colab": {
          "base_uri": "https://localhost:8080/"
        },
        "id": "XumU9bjBRAzI",
        "outputId": "1d0f43cf-ea82-439d-d9e9-5d99ef2e1691"
      },
      "execution_count": null,
      "outputs": [
        {
          "output_type": "stream",
          "name": "stdout",
          "text": [
            "Model: \"sequential_3\"\n",
            "_________________________________________________________________\n",
            " Layer (type)                Output Shape              Param #   \n",
            "=================================================================\n",
            " conv2d_24 (Conv2D)          (None, 128, 128, 32)      320       \n",
            "                                                                 \n",
            " max_pooling2d_12 (MaxPoolin  (None, 64, 64, 32)       0         \n",
            " g2D)                                                            \n",
            "                                                                 \n",
            " conv2d_25 (Conv2D)          (None, 64, 64, 64)        18496     \n",
            "                                                                 \n",
            " conv2d_26 (Conv2D)          (None, 64, 64, 64)        36928     \n",
            "                                                                 \n",
            " max_pooling2d_13 (MaxPoolin  (None, 32, 32, 64)       0         \n",
            " g2D)                                                            \n",
            "                                                                 \n",
            " conv2d_27 (Conv2D)          (None, 32, 32, 128)       73856     \n",
            "                                                                 \n",
            " conv2d_28 (Conv2D)          (None, 32, 32, 128)       147584    \n",
            "                                                                 \n",
            " max_pooling2d_14 (MaxPoolin  (None, 16, 16, 128)      0         \n",
            " g2D)                                                            \n",
            "                                                                 \n",
            " conv2d_29 (Conv2D)          (None, 16, 16, 256)       295168    \n",
            "                                                                 \n",
            " conv2d_30 (Conv2D)          (None, 16, 16, 256)       590080    \n",
            "                                                                 \n",
            " conv2d_31 (Conv2D)          (None, 16, 16, 256)       590080    \n",
            "                                                                 \n",
            " max_pooling2d_15 (MaxPoolin  (None, 8, 8, 256)        0         \n",
            " g2D)                                                            \n",
            "                                                                 \n",
            " flatten_3 (Flatten)         (None, 16384)             0         \n",
            "                                                                 \n",
            " dense_9 (Dense)             (None, 512)               8389120   \n",
            "                                                                 \n",
            " dropout_6 (Dropout)         (None, 512)               0         \n",
            "                                                                 \n",
            " dense_10 (Dense)            (None, 512)               262656    \n",
            "                                                                 \n",
            " dropout_7 (Dropout)         (None, 512)               0         \n",
            "                                                                 \n",
            " dense_11 (Dense)            (None, 7)                 3591      \n",
            "                                                                 \n",
            "=================================================================\n",
            "Total params: 10,407,879\n",
            "Trainable params: 10,407,879\n",
            "Non-trainable params: 0\n",
            "_________________________________________________________________\n"
          ]
        }
      ]
    },
    {
      "cell_type": "code",
      "source": [
        "train_dir = '/content/drive/MyDrive/Kaggle/dataset/data/train'\n",
        "val_dir = '/content/drive/MyDrive/Kaggle/dataset/data/test'\n",
        "\n",
        "num_train = 28709\n",
        "num_val = 7178\n",
        "batch_size = 32\n",
        "num_epoch = 50\n",
        "\n",
        "train_datagen = ImageDataGenerator(\n",
        "    rescale=1./255,\n",
        "    rotation_range=15,\n",
        "    width_shift_range=0.2,\n",
        "    height_shift_range=0.2,\n",
        "    shear_range=0.2,\n",
        "    zoom_range=0.2,\n",
        "    horizontal_flip=True,\n",
        "    vertical_flip=True,\n",
        "   \n",
        ")\n",
        "\n",
        "datagen = ImageDataGenerator(rescale=1./255)\n",
        "\n",
        "train_generator = datagen.flow_from_directory(\n",
        "        train_dir,\n",
        "        target_size=(128,128),\n",
        "        batch_size=batch_size,\n",
        "        color_mode=\"grayscale\",\n",
        "        class_mode='categorical')\n",
        "\n",
        "validation_generator = datagen.flow_from_directory(\n",
        "        val_dir,\n",
        "        target_size=(128,128),\n",
        "        batch_size=batch_size,\n",
        "        color_mode=\"grayscale\",\n",
        "        class_mode='categorical')"
      ],
      "metadata": {
        "colab": {
          "base_uri": "https://localhost:8080/"
        },
        "id": "Rn4IXWE6RCzJ",
        "outputId": "5417f8cc-2fb6-4b8c-fdab-c8b9c8b5c474"
      },
      "execution_count": null,
      "outputs": [
        {
          "output_type": "stream",
          "name": "stdout",
          "text": [
            "Found 28709 images belonging to 7 classes.\n",
            "Found 7178 images belonging to 7 classes.\n"
          ]
        }
      ]
    },
    {
      "cell_type": "code",
      "source": [
        "model.compile(loss='categorical_crossentropy',optimizer=Adam(learning_rate=0.0001),metrics=['accuracy'])\n",
        "\n",
        "history = model.fit(\n",
        "    train_generator,\n",
        "    steps_per_epoch=train_generator.samples/train_generator.batch_size,\n",
        "    epochs=50,\n",
        "    validation_data=validation_generator,\n",
        "    validation_steps=validation_generator.samples/validation_generator.batch_size\n",
        ")\n",
        "\n"
      ],
      "metadata": {
        "colab": {
          "base_uri": "https://localhost:8080/"
        },
        "id": "omjP_v9pVPGt",
        "outputId": "8e202f90-b6a9-4107-845f-d8834c6c869f"
      },
      "execution_count": null,
      "outputs": [
        {
          "output_type": "stream",
          "name": "stdout",
          "text": [
            "Epoch 1/50\n",
            "897/897 [==============================] - 5097s 6s/step - loss: 1.8281 - accuracy: 0.2418 - val_loss: 1.7828 - val_accuracy: 0.2565\n",
            "Epoch 2/50\n",
            "897/897 [==============================] - 74s 82ms/step - loss: 1.6869 - accuracy: 0.3185 - val_loss: 1.4967 - val_accuracy: 0.4153\n",
            "Epoch 3/50\n",
            "897/897 [==============================] - 74s 82ms/step - loss: 1.4571 - accuracy: 0.4348 - val_loss: 1.3618 - val_accuracy: 0.4851\n",
            "Epoch 4/50\n",
            "897/897 [==============================] - 82s 92ms/step - loss: 1.3238 - accuracy: 0.4918 - val_loss: 1.2757 - val_accuracy: 0.5123\n",
            "Epoch 5/50\n",
            "897/897 [==============================] - 83s 92ms/step - loss: 1.2262 - accuracy: 0.5316 - val_loss: 1.1898 - val_accuracy: 0.5400\n",
            "Epoch 6/50\n",
            "897/897 [==============================] - 73s 82ms/step - loss: 1.1418 - accuracy: 0.5707 - val_loss: 1.1484 - val_accuracy: 0.5674\n",
            "Epoch 7/50\n",
            "897/897 [==============================] - 82s 91ms/step - loss: 1.0580 - accuracy: 0.6036 - val_loss: 1.1108 - val_accuracy: 0.5804\n",
            "Epoch 8/50\n",
            "897/897 [==============================] - 80s 89ms/step - loss: 0.9754 - accuracy: 0.6341 - val_loss: 1.1085 - val_accuracy: 0.5880\n",
            "Epoch 9/50\n",
            "897/897 [==============================] - 71s 80ms/step - loss: 0.8785 - accuracy: 0.6738 - val_loss: 1.1119 - val_accuracy: 0.5946\n",
            "Epoch 10/50\n",
            "897/897 [==============================] - 73s 81ms/step - loss: 0.7741 - accuracy: 0.7154 - val_loss: 1.1557 - val_accuracy: 0.5933\n",
            "Epoch 11/50\n",
            "897/897 [==============================] - 71s 80ms/step - loss: 0.6588 - accuracy: 0.7582 - val_loss: 1.1947 - val_accuracy: 0.6009\n",
            "Epoch 12/50\n",
            "897/897 [==============================] - 71s 79ms/step - loss: 0.5440 - accuracy: 0.7989 - val_loss: 1.2661 - val_accuracy: 0.6016\n",
            "Epoch 13/50\n",
            "897/897 [==============================] - 844s 942ms/step - loss: 0.4476 - accuracy: 0.8356 - val_loss: 1.3574 - val_accuracy: 0.6095\n",
            "Epoch 14/50\n",
            "897/897 [==============================] - 73s 82ms/step - loss: 0.3654 - accuracy: 0.8689 - val_loss: 1.5705 - val_accuracy: 0.6053\n",
            "Epoch 15/50\n",
            "897/897 [==============================] - 82s 92ms/step - loss: 0.3058 - accuracy: 0.8906 - val_loss: 1.6708 - val_accuracy: 0.5979\n",
            "Epoch 16/50\n",
            "897/897 [==============================] - 74s 82ms/step - loss: 0.2604 - accuracy: 0.9093 - val_loss: 1.6558 - val_accuracy: 0.6078\n",
            "Epoch 17/50\n",
            "897/897 [==============================] - 1069s 1s/step - loss: 0.2220 - accuracy: 0.9209 - val_loss: 1.7814 - val_accuracy: 0.6078\n",
            "Epoch 18/50\n",
            "897/897 [==============================] - 118s 131ms/step - loss: 0.1928 - accuracy: 0.9319 - val_loss: 1.7925 - val_accuracy: 0.6052\n",
            "Epoch 19/50\n",
            "897/897 [==============================] - 74s 82ms/step - loss: 0.1805 - accuracy: 0.9373 - val_loss: 1.9277 - val_accuracy: 0.6099\n",
            "Epoch 20/50\n",
            "897/897 [==============================] - 73s 81ms/step - loss: 0.1601 - accuracy: 0.9445 - val_loss: 2.1230 - val_accuracy: 0.6067\n",
            "Epoch 21/50\n",
            "897/897 [==============================] - 81s 90ms/step - loss: 0.1536 - accuracy: 0.9489 - val_loss: 2.0015 - val_accuracy: 0.6096\n",
            "Epoch 22/50\n",
            "897/897 [==============================] - 80s 89ms/step - loss: 0.1341 - accuracy: 0.9536 - val_loss: 1.9566 - val_accuracy: 0.6092\n",
            "Epoch 23/50\n",
            "897/897 [==============================] - 71s 79ms/step - loss: 0.1349 - accuracy: 0.9541 - val_loss: 2.2414 - val_accuracy: 0.6084\n",
            "Epoch 24/50\n",
            "897/897 [==============================] - 70s 78ms/step - loss: 0.1199 - accuracy: 0.9590 - val_loss: 2.0836 - val_accuracy: 0.6088\n",
            "Epoch 25/50\n",
            "897/897 [==============================] - 71s 79ms/step - loss: 0.1084 - accuracy: 0.9637 - val_loss: 2.3028 - val_accuracy: 0.6091\n",
            "Epoch 26/50\n",
            "897/897 [==============================] - 71s 79ms/step - loss: 0.1059 - accuracy: 0.9649 - val_loss: 2.1279 - val_accuracy: 0.6067\n",
            "Epoch 27/50\n",
            "897/897 [==============================] - 78s 87ms/step - loss: 0.0992 - accuracy: 0.9666 - val_loss: 2.2481 - val_accuracy: 0.6119\n",
            "Epoch 28/50\n",
            "897/897 [==============================] - 71s 79ms/step - loss: 0.1006 - accuracy: 0.9676 - val_loss: 2.3356 - val_accuracy: 0.6126\n",
            "Epoch 29/50\n",
            "897/897 [==============================] - 71s 79ms/step - loss: 0.0934 - accuracy: 0.9693 - val_loss: 2.5349 - val_accuracy: 0.6103\n",
            "Epoch 30/50\n",
            "897/897 [==============================] - 72s 80ms/step - loss: 0.0908 - accuracy: 0.9704 - val_loss: 2.4524 - val_accuracy: 0.6134\n",
            "Epoch 31/50\n",
            "897/897 [==============================] - 153s 171ms/step - loss: 0.0863 - accuracy: 0.9704 - val_loss: 2.5764 - val_accuracy: 0.6108\n",
            "Epoch 32/50\n",
            "897/897 [==============================] - 72s 80ms/step - loss: 0.0873 - accuracy: 0.9709 - val_loss: 2.5423 - val_accuracy: 0.6046\n",
            "Epoch 33/50\n",
            "897/897 [==============================] - 85s 94ms/step - loss: 0.0787 - accuracy: 0.9745 - val_loss: 2.4729 - val_accuracy: 0.6110\n",
            "Epoch 34/50\n",
            "897/897 [==============================] - 359s 401ms/step - loss: 0.0805 - accuracy: 0.9730 - val_loss: 2.5303 - val_accuracy: 0.6133\n",
            "Epoch 35/50\n",
            "897/897 [==============================] - 101s 113ms/step - loss: 0.0783 - accuracy: 0.9749 - val_loss: 2.6143 - val_accuracy: 0.6048\n",
            "Epoch 36/50\n",
            "897/897 [==============================] - 71s 79ms/step - loss: 0.0756 - accuracy: 0.9744 - val_loss: 2.4777 - val_accuracy: 0.6099\n",
            "Epoch 37/50\n",
            "897/897 [==============================] - 71s 79ms/step - loss: 0.0739 - accuracy: 0.9763 - val_loss: 2.4049 - val_accuracy: 0.6120\n",
            "Epoch 38/50\n",
            "897/897 [==============================] - 71s 79ms/step - loss: 0.0703 - accuracy: 0.9771 - val_loss: 2.5811 - val_accuracy: 0.6113\n",
            "Epoch 39/50\n",
            "897/897 [==============================] - 70s 79ms/step - loss: 0.0668 - accuracy: 0.9780 - val_loss: 2.5728 - val_accuracy: 0.6140\n",
            "Epoch 40/50\n",
            "897/897 [==============================] - 71s 79ms/step - loss: 0.0635 - accuracy: 0.9786 - val_loss: 2.5846 - val_accuracy: 0.6105\n",
            "Epoch 41/50\n",
            "897/897 [==============================] - 80s 90ms/step - loss: 0.0673 - accuracy: 0.9780 - val_loss: 2.5644 - val_accuracy: 0.6084\n",
            "Epoch 42/50\n",
            "897/897 [==============================] - 70s 78ms/step - loss: 0.0584 - accuracy: 0.9806 - val_loss: 2.6281 - val_accuracy: 0.6050\n",
            "Epoch 43/50\n",
            "897/897 [==============================] - 70s 78ms/step - loss: 0.0628 - accuracy: 0.9790 - val_loss: 2.6212 - val_accuracy: 0.6101\n",
            "Epoch 44/50\n",
            "897/897 [==============================] - 80s 89ms/step - loss: 0.0609 - accuracy: 0.9794 - val_loss: 2.6998 - val_accuracy: 0.6069\n",
            "Epoch 45/50\n",
            "897/897 [==============================] - 72s 80ms/step - loss: 0.0613 - accuracy: 0.9797 - val_loss: 2.6445 - val_accuracy: 0.6063\n",
            "Epoch 46/50\n",
            "897/897 [==============================] - 81s 90ms/step - loss: 0.0567 - accuracy: 0.9815 - val_loss: 2.3804 - val_accuracy: 0.6066\n",
            "Epoch 47/50\n",
            "897/897 [==============================] - 71s 79ms/step - loss: 0.0559 - accuracy: 0.9807 - val_loss: 2.7675 - val_accuracy: 0.6059\n",
            "Epoch 48/50\n",
            "897/897 [==============================] - 71s 79ms/step - loss: 0.0554 - accuracy: 0.9820 - val_loss: 2.6619 - val_accuracy: 0.6088\n",
            "Epoch 49/50\n",
            "897/897 [==============================] - 80s 89ms/step - loss: 0.0598 - accuracy: 0.9813 - val_loss: 2.6235 - val_accuracy: 0.6163\n",
            "Epoch 50/50\n",
            "897/897 [==============================] - 80s 90ms/step - loss: 0.0543 - accuracy: 0.9819 - val_loss: 2.5058 - val_accuracy: 0.6103\n"
          ]
        }
      ]
    }
  ]
}