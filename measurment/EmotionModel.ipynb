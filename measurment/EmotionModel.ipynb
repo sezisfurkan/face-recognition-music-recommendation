{
  "nbformat": 4,
  "nbformat_minor": 0,
  "metadata": {
    "colab": {
      "provenance": [],
      "machine_shape": "hm"
    },
    "kernelspec": {
      "name": "python3",
      "display_name": "Python 3"
    },
    "language_info": {
      "name": "python"
    },
    "accelerator": "GPU",
    "gpuClass": "premium"
  },
  "cells": [
    {
      "cell_type": "code",
      "execution_count": null,
      "metadata": {
        "colab": {
          "base_uri": "https://localhost:8080/"
        },
        "id": "Zv_n9O8e_2cc",
        "outputId": "dfd865c5-5c59-49fd-b51f-887e142967c1"
      },
      "outputs": [
        {
          "output_type": "stream",
          "name": "stdout",
          "text": [
            "Mounted at /content/drive\n"
          ]
        }
      ],
      "source": [
        "from google.colab import drive\n",
        "drive.mount('/content/drive')"
      ]
    },
    {
      "cell_type": "code",
      "source": [
        "import numpy as np\n",
        "import pandas as pd\n",
        "import os\n",
        "import cv2\n",
        "from sklearn.model_selection import train_test_split\n",
        "import matplotlib.pyplot as plt\n",
        "import tensorflow as tf\n",
        "from tensorflow import keras\n",
        "from keras.utils import np_utils\n",
        "from keras.optimizers import SGD"
      ],
      "metadata": {
        "id": "vHCk6Q-O_5g6"
      },
      "execution_count": null,
      "outputs": []
    },
    {
      "cell_type": "code",
      "source": [
        "IMG_SIZE=128\n",
        "path_train='/content/drive/MyDrive/dataset3/images/train'\n",
        "path_val='/content/drive/MyDrive/dataset3/images/validation'"
      ],
      "metadata": {
        "id": "grfpCOLTvGLo"
      },
      "execution_count": null,
      "outputs": []
    },
    {
      "cell_type": "code",
      "source": [
        "x_train=[]\n",
        "y_train=[]\n",
        "x_val=[]\n",
        "y_val=[]\n"
      ],
      "metadata": {
        "id": "jq_-whk0vB1s"
      },
      "execution_count": null,
      "outputs": []
    },
    {
      "cell_type": "code",
      "source": [
        "category={'angry':0,'disgust':1,'fear':2,'happy':3,'neutral':4,'sad':5, 'surprise':6}\n",
        "for i in sorted(os.listdir(path_train)):\n",
        "\n",
        "    path=os.path.join(path_train,i)\n",
        "    for j in os.listdir(path):\n",
        "        img=cv2.imread(os.path.join(path,j),0) \n",
        "        img=cv2.resize(img,(IMG_SIZE,IMG_SIZE)) \n",
        "        x_train.append(img)\n",
        "        y_train.append(category[i]) \n",
        "        \n",
        "print('Number of Training images:',len(x_train))\n",
        "print('Number of Labels for training images:',len(y_train))\n",
        "\n",
        "for i in sorted(os.listdir(path_val)):\n",
        "    \n",
        "    path=os.path.join(path_val,i)\n",
        "    for j in os.listdir(path):\n",
        "        img=cv2.imread(os.path.join(path,j),0) \n",
        "        img=cv2.resize(img,(IMG_SIZE,IMG_SIZE)) \n",
        "        x_val.append(img)\n",
        "        y_val.append(category[i]) \n",
        "        \n",
        "print('Number of Validation images:',len(x_val))\n",
        "\n",
        "print('Number of Labels for validation images:',len(y_val))"
      ],
      "metadata": {
        "colab": {
          "base_uri": "https://localhost:8080/"
        },
        "id": "H6q1SuTiNQLN",
        "outputId": "08c9568e-1fde-4731-c721-481ea55dbb95"
      },
      "execution_count": null,
      "outputs": [
        {
          "output_type": "stream",
          "name": "stdout",
          "text": [
            "Number of Training images: 58454\n",
            "Number of Labels for training images: 58454\n",
            "Number of Validation images: 7066\n",
            "Number of Labels for validation images: 7066\n"
          ]
        }
      ]
    },
    {
      "cell_type": "code",
      "source": [
        "x_train= np.array(x_train, dtype=\"float\") / 255.0\n",
        "x_val= np.array(x_val, dtype=\"float\") / 255.0\n",
        "\n",
        "y_train= np.array(y_train)\n",
        "y_val=np.array(y_val)\n",
        "\n",
        "y_train=np_utils.to_categorical(y_train)\n",
        "y_val=np_utils.to_categorical(y_val)"
      ],
      "metadata": {
        "id": "zuCmuk2b_64R"
      },
      "execution_count": null,
      "outputs": []
    },
    {
      "cell_type": "code",
      "source": [
        "x_train_reshaped=x_train.reshape(x_train.shape[0],IMG_SIZE,IMG_SIZE,1)\n",
        "x_val_reshaped=x_val.reshape(x_val.shape[0],IMG_SIZE,IMG_SIZE,1)\n",
        "print(x_train_reshaped.shape)\n",
        "print(x_val_reshaped.shape)"
      ],
      "metadata": {
        "id": "FXe5MzDQOIS7",
        "colab": {
          "base_uri": "https://localhost:8080/"
        },
        "outputId": "79b76ddf-c052-4c48-a61e-1d9b605468dd"
      },
      "execution_count": null,
      "outputs": [
        {
          "output_type": "stream",
          "name": "stdout",
          "text": [
            "(58454, 128, 128, 1)\n",
            "(7066, 128, 128, 1)\n"
          ]
        }
      ]
    },
    {
      "cell_type": "code",
      "source": [
        "model=keras.models.Sequential()\n",
        "model.add(keras.layers.Conv2D(32, (3,3), input_shape=(IMG_SIZE,IMG_SIZE,1), activation='relu',padding='same'))\n",
        "model.add(keras.layers.Dropout(0.2))\n",
        "model.add(keras.layers.Conv2D(32, (3,3), activation='relu',padding='same'))\n",
        "model.add(keras.layers.MaxPooling2D(pool_size=(2,2)))\n",
        "model.add(keras.layers.Conv2D(64, (3,3), activation='relu',padding='same'))\n",
        "model.add(keras.layers.Dropout(0.2))\n",
        "model.add(keras.layers.Conv2D(64, (3,3), activation='relu',padding='same'))\n",
        "model.add(keras.layers.MaxPooling2D(pool_size=(2,2)))\n",
        "model.add(keras.layers.Conv2D(128, (3,3), activation='relu',padding='same'))\n",
        "model.add(keras.layers.Dropout(0.2))\n",
        "model.add(keras.layers.Conv2D(128, (3,3), activation='relu',padding='same'))\n",
        "model.add(keras.layers.MaxPooling2D(pool_size=(2,2)))\n",
        "model.add(keras.layers.Flatten())\n",
        "model.add(keras.layers.Dense(1024, activation=\"relu\"))\n",
        "model.add(keras.layers.Dropout(0.2))\n",
        "model.add(keras.layers.Dense(512,activation='relu'))\n",
        "model.add(keras.layers.Dropout(0.2))\n",
        "model.add(keras.layers.Dense(7,activation=\"softmax\"))\n",
        "model.summary()"
      ],
      "metadata": {
        "colab": {
          "base_uri": "https://localhost:8080/"
        },
        "id": "viAp0POFOPgW",
        "outputId": "2e221746-fc0d-44f2-e58c-641c8c9aa388"
      },
      "execution_count": null,
      "outputs": [
        {
          "output_type": "stream",
          "name": "stdout",
          "text": [
            "Model: \"sequential_1\"\n",
            "_________________________________________________________________\n",
            " Layer (type)                Output Shape              Param #   \n",
            "=================================================================\n",
            " conv2d_6 (Conv2D)           (None, 128, 128, 32)      320       \n",
            "                                                                 \n",
            " dropout_5 (Dropout)         (None, 128, 128, 32)      0         \n",
            "                                                                 \n",
            " conv2d_7 (Conv2D)           (None, 128, 128, 32)      9248      \n",
            "                                                                 \n",
            " max_pooling2d_3 (MaxPooling  (None, 64, 64, 32)       0         \n",
            " 2D)                                                             \n",
            "                                                                 \n",
            " conv2d_8 (Conv2D)           (None, 64, 64, 64)        18496     \n",
            "                                                                 \n",
            " dropout_6 (Dropout)         (None, 64, 64, 64)        0         \n",
            "                                                                 \n",
            " conv2d_9 (Conv2D)           (None, 64, 64, 64)        36928     \n",
            "                                                                 \n",
            " max_pooling2d_4 (MaxPooling  (None, 32, 32, 64)       0         \n",
            " 2D)                                                             \n",
            "                                                                 \n",
            " conv2d_10 (Conv2D)          (None, 32, 32, 128)       73856     \n",
            "                                                                 \n",
            " dropout_7 (Dropout)         (None, 32, 32, 128)       0         \n",
            "                                                                 \n",
            " conv2d_11 (Conv2D)          (None, 32, 32, 128)       147584    \n",
            "                                                                 \n",
            " max_pooling2d_5 (MaxPooling  (None, 16, 16, 128)      0         \n",
            " 2D)                                                             \n",
            "                                                                 \n",
            " flatten_1 (Flatten)         (None, 32768)             0         \n",
            "                                                                 \n",
            " dense_3 (Dense)             (None, 1024)              33555456  \n",
            "                                                                 \n",
            " dropout_8 (Dropout)         (None, 1024)              0         \n",
            "                                                                 \n",
            " dense_4 (Dense)             (None, 512)               524800    \n",
            "                                                                 \n",
            " dropout_9 (Dropout)         (None, 512)               0         \n",
            "                                                                 \n",
            " dense_5 (Dense)             (None, 7)                 3591      \n",
            "                                                                 \n",
            "=================================================================\n",
            "Total params: 34,370,279\n",
            "Trainable params: 34,370,279\n",
            "Non-trainable params: 0\n",
            "_________________________________________________________________\n"
          ]
        }
      ]
    },
    {
      "cell_type": "code",
      "source": [
        "callback = keras.callbacks.EarlyStopping(monitor='val_loss', patience=3)\n",
        "model.compile(loss='categorical_crossentropy',\n",
        "              optimizer='Adam',\n",
        "              metrics=['accuracy'])"
      ],
      "metadata": {
        "id": "uUp7AH8pwGae"
      },
      "execution_count": null,
      "outputs": []
    },
    {
      "cell_type": "code",
      "source": [
        "model_history=model.fit(x_train_reshaped,\n",
        "                        y_train,\n",
        "                        batch_size=64,\n",
        "                        epochs=30,\n",
        "                        validation_data=(x_val_reshaped,y_val),\n",
        "                        shuffle=True, \n",
        "                        callbacks=[callback])"
      ],
      "metadata": {
        "colab": {
          "base_uri": "https://localhost:8080/"
        },
        "id": "B3HOIumCwRNt",
        "outputId": "33d6883e-e029-42ba-b922-b83153227219"
      },
      "execution_count": null,
      "outputs": [
        {
          "output_type": "stream",
          "name": "stdout",
          "text": [
            "Epoch 1/30\n",
            "914/914 [==============================] - 38s 24ms/step - loss: 1.6939 - accuracy: 0.3163 - val_loss: 1.4361 - val_accuracy: 0.4448\n",
            "Epoch 2/30\n",
            "914/914 [==============================] - 20s 21ms/step - loss: 1.2869 - accuracy: 0.5037 - val_loss: 1.1442 - val_accuracy: 0.5744\n",
            "Epoch 3/30\n",
            "914/914 [==============================] - 20s 21ms/step - loss: 0.9727 - accuracy: 0.6378 - val_loss: 0.9208 - val_accuracy: 0.6700\n",
            "Epoch 4/30\n",
            "914/914 [==============================] - 20s 21ms/step - loss: 0.6624 - accuracy: 0.7647 - val_loss: 0.7269 - val_accuracy: 0.7576\n",
            "Epoch 5/30\n",
            "914/914 [==============================] - 19s 21ms/step - loss: 0.4357 - accuracy: 0.8492 - val_loss: 0.5712 - val_accuracy: 0.8324\n",
            "Epoch 6/30\n",
            "914/914 [==============================] - 19s 21ms/step - loss: 0.3091 - accuracy: 0.8940 - val_loss: 0.5513 - val_accuracy: 0.8480\n",
            "Epoch 7/30\n",
            "914/914 [==============================] - 19s 21ms/step - loss: 0.2388 - accuracy: 0.9187 - val_loss: 0.4886 - val_accuracy: 0.8793\n",
            "Epoch 8/30\n",
            "914/914 [==============================] - 19s 21ms/step - loss: 0.1983 - accuracy: 0.9338 - val_loss: 0.4802 - val_accuracy: 0.8848\n",
            "Epoch 9/30\n",
            "914/914 [==============================] - 19s 21ms/step - loss: 0.1769 - accuracy: 0.9391 - val_loss: 0.4654 - val_accuracy: 0.8840\n",
            "Epoch 10/30\n",
            "914/914 [==============================] - 20s 21ms/step - loss: 0.1563 - accuracy: 0.9486 - val_loss: 0.4559 - val_accuracy: 0.9007\n",
            "Epoch 11/30\n",
            "914/914 [==============================] - 19s 21ms/step - loss: 0.1396 - accuracy: 0.9548 - val_loss: 0.4409 - val_accuracy: 0.9012\n",
            "Epoch 12/30\n",
            "914/914 [==============================] - 19s 21ms/step - loss: 0.1318 - accuracy: 0.9566 - val_loss: 0.4416 - val_accuracy: 0.9046\n",
            "Epoch 13/30\n",
            "914/914 [==============================] - 20s 21ms/step - loss: 0.1211 - accuracy: 0.9596 - val_loss: 0.4479 - val_accuracy: 0.9052\n",
            "Epoch 14/30\n",
            "914/914 [==============================] - 20s 21ms/step - loss: 0.1152 - accuracy: 0.9619 - val_loss: 0.4486 - val_accuracy: 0.9032\n"
          ]
        }
      ]
    },
    {
      "cell_type": "code",
      "source": [
        "pd.DataFrame(model_history.history).plot(figsize=(8,5))\n",
        "plt.grid(True)\n",
        "plt.gca().set_ylim(0,1)\n",
        "plt.show()"
      ],
      "metadata": {
        "colab": {
          "base_uri": "https://localhost:8080/",
          "height": 451
        },
        "id": "77v_fGhu292i",
        "outputId": "fd7e1569-008c-4d7c-b9c8-38a08df5deee"
      },
      "execution_count": null,
      "outputs": [
        {
          "output_type": "display_data",
          "data": {
            "text/plain": [
              "<Figure size 800x500 with 1 Axes>"
            ],
            "image/png": "[encoded data removed]"
          },
          "metadata": {}
        }
      ]
    },
    {
      "cell_type": "code",
      "source": [
        "model.save(\"duygumodel.h5\")"
      ],
      "metadata": {
        "id": "1cPH2QVh3RVq"
      },
      "execution_count": null,
      "outputs": []
    }
  ]
}