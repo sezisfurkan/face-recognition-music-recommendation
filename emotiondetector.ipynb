{
  "metadata": {
    "kernelspec": {
      "language": "python",
      "display_name": "Python 3",
      "name": "python3"
    },
    "language_info": {
      "name": "python",
      "version": "3.7.9",
      "mimetype": "text/x-python",
      "codemirror_mode": {
        "name": "ipython",
        "version": 3
      },
      "pygments_lexer": "ipython3",
      "nbconvert_exporter": "python",
      "file_extension": ".py"
    },
    "colab": {
      "provenance": []
    },
    "accelerator": "GPU",
    "gpuClass": "standard"
  },
  "nbformat_minor": 0,
  "nbformat": 4,
  "cells": [
    {
      "cell_type": "code",
      "source": [
        "from google.colab import drive\n",
        "drive.mount('/content/drive')"
      ],
      "metadata": {
        "colab": {
          "base_uri": "https://localhost:8080/"
        },
        "id": "60mk6s1gojze",
        "outputId": "41108d0d-9fa2-4f39-8a83-678d164bc4e4"
      },
      "execution_count": 1,
      "outputs": [
        {
          "output_type": "stream",
          "name": "stdout",
          "text": [
            "Mounted at /content/drive\n"
          ]
        }
      ]
    },
    {
      "cell_type": "code",
      "source": [
        "import numpy as np\n",
        "import pandas as pd\n",
        "import os\n",
        "import cv2\n",
        "from sklearn.model_selection import train_test_split\n",
        "import matplotlib.pyplot as plt\n",
        "import tensorflow as tf\n",
        "from tensorflow import keras\n",
        "from keras.utils import np_utils\n",
        "from keras.optimizers import SGD"
      ],
      "metadata": {
        "trusted": true,
        "id": "bSS9QFypohDC"
      },
      "execution_count": 3,
      "outputs": []
    },
    {
      "cell_type": "code",
      "source": [
        "x_train=[]\n",
        "y_train=[]\n",
        "x_test=[]\n",
        "y_test=[]\n",
        "x_val=[]\n",
        "y_val=[]\n",
        "\n",
        "IMG_SIZE=128\n",
        "\n",
        "path_train='/content/drive/MyDrive/eINT/train'\n",
        "path_test='/content/drive/MyDrive/eINT/test'\n",
        "path_val='/content/drive/MyDrive/eINT/val'\n",
        "\n",
        "category={'Anger':0,'Disgust':1,'Fear':2,'Happiness':3,'Sadness':4,'Surprise':5}\n",
        "\n",
        "for i in sorted(os.listdir(path_train)):\n",
        "\n",
        "    path=os.path.join(path_train,i)\n",
        "    for j in os.listdir(path):\n",
        "        img=cv2.imread(os.path.join(path,j),0) \n",
        "        img=cv2.resize(img,(IMG_SIZE,IMG_SIZE)) \n",
        "        x_train.append(img)\n",
        "        y_train.append(category[i]) \n",
        "        \n",
        "print('Number of Training images:',len(x_train))\n",
        "print('Number of Labels for training images:',len(y_train))\n",
        "\n",
        "for i in sorted(os.listdir(path_test)):\n",
        "\n",
        "    path=os.path.join(path_test,i)\n",
        "    for j in os.listdir(path):\n",
        "        img=cv2.imread(os.path.join(path,j),0) \n",
        "        img=cv2.resize(img,(IMG_SIZE,IMG_SIZE))\n",
        "        x_test.append(img)\n",
        "        y_test.append(category[i]) \n",
        "        \n",
        "print('Number of Testing images:',len(x_test))\n",
        "print('Number of Labels for testing images:',len(y_test))\n",
        "\n",
        "for i in sorted(os.listdir(path_val)):\n",
        "    \n",
        "    path=os.path.join(path_val,i)\n",
        "    for j in os.listdir(path):\n",
        "        img=cv2.imread(os.path.join(path,j),0) \n",
        "        img=cv2.resize(img,(IMG_SIZE,IMG_SIZE)) \n",
        "        x_val.append(img)\n",
        "        y_val.append(category[i]) \n",
        "        \n",
        "print('Number of Validation images:',len(x_val))\n",
        "\n",
        "print('Number of Labels for validation images:',len(y_val))"
      ],
      "metadata": {
        "trusted": true,
        "colab": {
          "base_uri": "https://localhost:8080/"
        },
        "id": "6I4p1Kh2ohDE",
        "outputId": "45b1817b-dafc-4d89-9074-e99678211232"
      },
      "execution_count": 4,
      "outputs": [
        {
          "output_type": "stream",
          "name": "stdout",
          "text": [
            "Number of Training images: 11475\n",
            "Number of Labels for training images: 11475\n",
            "Number of Testing images: 1438\n",
            "Number of Labels for testing images: 1438\n",
            "Number of Validation images: 1433\n",
            "Number of Labels for validation images: 1433\n"
          ]
        }
      ]
    },
    {
      "cell_type": "code",
      "source": [
        "x_train= np.array(x_train, dtype=\"float\") / 255.0\n",
        "x_test=np.array(x_test,dtype=\"float\") / 255.0\n",
        "x_val= np.array(x_val, dtype=\"float\") / 255.0\n",
        "\n",
        "y_train= np.array(y_train) \n",
        "y_test=np.array(y_test)\n",
        "y_val=np.array(y_val)\n",
        "\n",
        "y_train=np_utils.to_categorical(y_train)\n",
        "y_test=np_utils.to_categorical(y_test)\n",
        "y_val=np_utils.to_categorical(y_val)\n",
        "\n",
        "print(y_train)"
      ],
      "metadata": {
        "trusted": true,
        "colab": {
          "base_uri": "https://localhost:8080/"
        },
        "id": "uDtcu5yrohDG",
        "outputId": "bb1f6e1d-5c9a-4385-848a-2d16af4cb419"
      },
      "execution_count": 5,
      "outputs": [
        {
          "output_type": "stream",
          "name": "stdout",
          "text": [
            "[[1. 0. 0. 0. 0. 0.]\n",
            " [1. 0. 0. 0. 0. 0.]\n",
            " [1. 0. 0. 0. 0. 0.]\n",
            " ...\n",
            " [0. 0. 0. 0. 0. 1.]\n",
            " [0. 0. 0. 0. 0. 1.]\n",
            " [0. 0. 0. 0. 0. 1.]]\n"
          ]
        }
      ]
    },
    {
      "cell_type": "code",
      "source": [
        "x_train_reshaped=x_train.reshape(x_train.shape[0],IMG_SIZE,IMG_SIZE,1)\n",
        "x_test_reshaped=x_test.reshape(x_test.shape[0],IMG_SIZE,IMG_SIZE,1)\n",
        "x_val_reshaped=x_val.reshape(x_val.shape[0],IMG_SIZE,IMG_SIZE,1)\n",
        "print(x_train_reshaped.shape)\n",
        "print(x_test_reshaped.shape)\n",
        "print(x_val_reshaped.shape)"
      ],
      "metadata": {
        "trusted": true,
        "colab": {
          "base_uri": "https://localhost:8080/"
        },
        "id": "3C5V7R2YohDH",
        "outputId": "5eb1792c-2b23-425c-dacd-7986ba4cdb74"
      },
      "execution_count": 6,
      "outputs": [
        {
          "output_type": "stream",
          "name": "stdout",
          "text": [
            "(11475, 128, 128, 1)\n",
            "(1438, 128, 128, 1)\n",
            "(1433, 128, 128, 1)\n"
          ]
        }
      ]
    },
    {
      "cell_type": "code",
      "source": [
        "model=keras.models.Sequential()\n",
        "model.add(keras.layers.Conv2D(32, (3,3), input_shape=(IMG_SIZE,IMG_SIZE,1), activation='relu',padding='same'))\n",
        "model.add(keras.layers.Dropout(0.2))\n",
        "model.add(keras.layers.Conv2D(32, (3,3), activation='relu',padding='same'))\n",
        "model.add(keras.layers.MaxPooling2D(pool_size=(2,2)))\n",
        "model.add(keras.layers.Conv2D(64, (3,3), activation='relu',padding='same'))\n",
        "model.add(keras.layers.Dropout(0.2))\n",
        "model.add(keras.layers.Conv2D(64, (3,3), activation='relu',padding='same'))\n",
        "model.add(keras.layers.MaxPooling2D(pool_size=(2,2)))\n",
        "model.add(keras.layers.Conv2D(128, (3,3), activation='relu',padding='same'))\n",
        "model.add(keras.layers.Dropout(0.2))\n",
        "model.add(keras.layers.Conv2D(128, (3,3), activation='relu',padding='same'))\n",
        "model.add(keras.layers.MaxPooling2D(pool_size=(2,2)))\n",
        "model.add(keras.layers.Flatten())\n",
        "model.add(keras.layers.Dense(1024, activation=\"relu\"))\n",
        "model.add(keras.layers.Dropout(0.2))\n",
        "model.add(keras.layers.Dense(512,activation='relu'))\n",
        "model.add(keras.layers.Dropout(0.2))\n",
        "model.add(keras.layers.Dense(6,activation=\"softmax\"))"
      ],
      "metadata": {
        "trusted": true,
        "id": "hZMBhAiFohDH"
      },
      "execution_count": 7,
      "outputs": []
    },
    {
      "cell_type": "code",
      "source": [
        "model.summary()"
      ],
      "metadata": {
        "trusted": true,
        "colab": {
          "base_uri": "https://localhost:8080/"
        },
        "id": "pD-0q6VMohDI",
        "outputId": "fa0da2f4-d16e-46b5-c8de-3f291e6f1e20"
      },
      "execution_count": 8,
      "outputs": [
        {
          "output_type": "stream",
          "name": "stdout",
          "text": [
            "Model: \"sequential\"\n",
            "_________________________________________________________________\n",
            " Layer (type)                Output Shape              Param #   \n",
            "=================================================================\n",
            " conv2d (Conv2D)             (None, 128, 128, 32)      320       \n",
            "                                                                 \n",
            " dropout (Dropout)           (None, 128, 128, 32)      0         \n",
            "                                                                 \n",
            " conv2d_1 (Conv2D)           (None, 128, 128, 32)      9248      \n",
            "                                                                 \n",
            " max_pooling2d (MaxPooling2D  (None, 64, 64, 32)       0         \n",
            " )                                                               \n",
            "                                                                 \n",
            " conv2d_2 (Conv2D)           (None, 64, 64, 64)        18496     \n",
            "                                                                 \n",
            " dropout_1 (Dropout)         (None, 64, 64, 64)        0         \n",
            "                                                                 \n",
            " conv2d_3 (Conv2D)           (None, 64, 64, 64)        36928     \n",
            "                                                                 \n",
            " max_pooling2d_1 (MaxPooling  (None, 32, 32, 64)       0         \n",
            " 2D)                                                             \n",
            "                                                                 \n",
            " conv2d_4 (Conv2D)           (None, 32, 32, 128)       73856     \n",
            "                                                                 \n",
            " dropout_2 (Dropout)         (None, 32, 32, 128)       0         \n",
            "                                                                 \n",
            " conv2d_5 (Conv2D)           (None, 32, 32, 128)       147584    \n",
            "                                                                 \n",
            " max_pooling2d_2 (MaxPooling  (None, 16, 16, 128)      0         \n",
            " 2D)                                                             \n",
            "                                                                 \n",
            " flatten (Flatten)           (None, 32768)             0         \n",
            "                                                                 \n",
            " dense (Dense)               (None, 1024)              33555456  \n",
            "                                                                 \n",
            " dropout_3 (Dropout)         (None, 1024)              0         \n",
            "                                                                 \n",
            " dense_1 (Dense)             (None, 512)               524800    \n",
            "                                                                 \n",
            " dropout_4 (Dropout)         (None, 512)               0         \n",
            "                                                                 \n",
            " dense_2 (Dense)             (None, 6)                 3078      \n",
            "                                                                 \n",
            "=================================================================\n",
            "Total params: 34,369,766\n",
            "Trainable params: 34,369,766\n",
            "Non-trainable params: 0\n",
            "_________________________________________________________________\n"
          ]
        }
      ]
    },
    {
      "cell_type": "code",
      "source": [
        "epoch=50\n",
        "learning_rate=0.01\n",
        "decay_rate=learning_rate/epoch\n",
        "momentum=0.8\n",
        "sgd=SGD(lr=learning_rate,momentum=momentum,decay=decay_rate)"
      ],
      "metadata": {
        "trusted": true,
        "colab": {
          "base_uri": "https://localhost:8080/"
        },
        "id": "QgNchUigohDI",
        "outputId": "2b84c955-52ce-4fde-d3e5-8b6def843dbb"
      },
      "execution_count": 9,
      "outputs": [
        {
          "output_type": "stream",
          "name": "stderr",
          "text": [
            "/usr/local/lib/python3.9/dist-packages/keras/optimizers/optimizer_v2/gradient_descent.py:114: UserWarning: The `lr` argument is deprecated, use `learning_rate` instead.\n",
            "  super().__init__(name, **kwargs)\n"
          ]
        }
      ]
    },
    {
      "cell_type": "code",
      "source": [
        "callback = keras.callbacks.EarlyStopping(monitor='val_loss', patience=3)"
      ],
      "metadata": {
        "trusted": true,
        "id": "SbBco-a1ohDI"
      },
      "execution_count": 10,
      "outputs": []
    },
    {
      "cell_type": "code",
      "source": [
        "model.compile(loss='categorical_crossentropy',\n",
        "              optimizer=sgd,\n",
        "              metrics=['accuracy'])"
      ],
      "metadata": {
        "trusted": true,
        "id": "aN6ib80XohDI"
      },
      "execution_count": 11,
      "outputs": []
    },
    {
      "cell_type": "code",
      "source": [
        "model_history=model.fit(x_train_reshaped,\n",
        "                        y_train,\n",
        "                        batch_size=32,\n",
        "                        epochs=epoch,\n",
        "                        validation_data=(x_val_reshaped,y_val),\n",
        "                        shuffle=True, \n",
        "                        callbacks=[callback])"
      ],
      "metadata": {
        "trusted": true,
        "colab": {
          "base_uri": "https://localhost:8080/"
        },
        "id": "EtpZ7N11ohDJ",
        "outputId": "f63a7b81-848d-4cfb-cd44-8da23f68a125"
      },
      "execution_count": 12,
      "outputs": [
        {
          "output_type": "stream",
          "name": "stdout",
          "text": [
            "Epoch 1/50\n",
            "359/359 [==============================] - 35s 68ms/step - loss: 1.5729 - accuracy: 0.3383 - val_loss: 1.2996 - val_accuracy: 0.4606\n",
            "Epoch 2/50\n",
            "359/359 [==============================] - 22s 63ms/step - loss: 1.1170 - accuracy: 0.5555 - val_loss: 1.0841 - val_accuracy: 0.5946\n",
            "Epoch 3/50\n",
            "359/359 [==============================] - 23s 63ms/step - loss: 0.8154 - accuracy: 0.6844 - val_loss: 0.6928 - val_accuracy: 0.7425\n",
            "Epoch 4/50\n",
            "359/359 [==============================] - 23s 63ms/step - loss: 0.6056 - accuracy: 0.7744 - val_loss: 0.5234 - val_accuracy: 0.8234\n",
            "Epoch 5/50\n",
            "359/359 [==============================] - 23s 63ms/step - loss: 0.4675 - accuracy: 0.8270 - val_loss: 0.4683 - val_accuracy: 0.8360\n",
            "Epoch 6/50\n",
            "359/359 [==============================] - 23s 63ms/step - loss: 0.3694 - accuracy: 0.8647 - val_loss: 0.3604 - val_accuracy: 0.8758\n",
            "Epoch 7/50\n",
            "359/359 [==============================] - 23s 63ms/step - loss: 0.2942 - accuracy: 0.8953 - val_loss: 0.2822 - val_accuracy: 0.8974\n",
            "Epoch 8/50\n",
            "359/359 [==============================] - 23s 63ms/step - loss: 0.2402 - accuracy: 0.9136 - val_loss: 0.2599 - val_accuracy: 0.9121\n",
            "Epoch 9/50\n",
            "359/359 [==============================] - 23s 64ms/step - loss: 0.2019 - accuracy: 0.9268 - val_loss: 0.2426 - val_accuracy: 0.9163\n",
            "Epoch 10/50\n",
            "359/359 [==============================] - 23s 64ms/step - loss: 0.1639 - accuracy: 0.9400 - val_loss: 0.1949 - val_accuracy: 0.9351\n",
            "Epoch 11/50\n",
            "359/359 [==============================] - 23s 64ms/step - loss: 0.1386 - accuracy: 0.9499 - val_loss: 0.2026 - val_accuracy: 0.9260\n",
            "Epoch 12/50\n",
            "359/359 [==============================] - 23s 64ms/step - loss: 0.1212 - accuracy: 0.9563 - val_loss: 0.1840 - val_accuracy: 0.9344\n",
            "Epoch 13/50\n",
            "359/359 [==============================] - 23s 65ms/step - loss: 0.1031 - accuracy: 0.9617 - val_loss: 0.1392 - val_accuracy: 0.9484\n",
            "Epoch 14/50\n",
            "359/359 [==============================] - 23s 64ms/step - loss: 0.0867 - accuracy: 0.9683 - val_loss: 0.1478 - val_accuracy: 0.9428\n",
            "Epoch 15/50\n",
            "359/359 [==============================] - 23s 64ms/step - loss: 0.0692 - accuracy: 0.9758 - val_loss: 0.1372 - val_accuracy: 0.9477\n",
            "Epoch 16/50\n",
            "359/359 [==============================] - 23s 64ms/step - loss: 0.0647 - accuracy: 0.9773 - val_loss: 0.1330 - val_accuracy: 0.9498\n",
            "Epoch 17/50\n",
            "359/359 [==============================] - 23s 64ms/step - loss: 0.0624 - accuracy: 0.9780 - val_loss: 0.1329 - val_accuracy: 0.9512\n",
            "Epoch 18/50\n",
            "359/359 [==============================] - 23s 64ms/step - loss: 0.0520 - accuracy: 0.9819 - val_loss: 0.1417 - val_accuracy: 0.9539\n",
            "Epoch 19/50\n",
            "359/359 [==============================] - 23s 64ms/step - loss: 0.0508 - accuracy: 0.9814 - val_loss: 0.1259 - val_accuracy: 0.9546\n",
            "Epoch 20/50\n",
            "359/359 [==============================] - 23s 64ms/step - loss: 0.0457 - accuracy: 0.9829 - val_loss: 0.1556 - val_accuracy: 0.9470\n",
            "Epoch 21/50\n",
            "359/359 [==============================] - 23s 64ms/step - loss: 0.0412 - accuracy: 0.9851 - val_loss: 0.1121 - val_accuracy: 0.9609\n",
            "Epoch 22/50\n",
            "359/359 [==============================] - 23s 64ms/step - loss: 0.0308 - accuracy: 0.9905 - val_loss: 0.1255 - val_accuracy: 0.9623\n",
            "Epoch 23/50\n",
            "359/359 [==============================] - 23s 64ms/step - loss: 0.0321 - accuracy: 0.9886 - val_loss: 0.1180 - val_accuracy: 0.9623\n",
            "Epoch 24/50\n",
            "359/359 [==============================] - 23s 65ms/step - loss: 0.0371 - accuracy: 0.9860 - val_loss: 0.1041 - val_accuracy: 0.9644\n",
            "Epoch 25/50\n",
            "359/359 [==============================] - 23s 65ms/step - loss: 0.0244 - accuracy: 0.9906 - val_loss: 0.1183 - val_accuracy: 0.9651\n",
            "Epoch 26/50\n",
            "359/359 [==============================] - 23s 64ms/step - loss: 0.0257 - accuracy: 0.9918 - val_loss: 0.1177 - val_accuracy: 0.9651\n",
            "Epoch 27/50\n",
            "359/359 [==============================] - 23s 64ms/step - loss: 0.0259 - accuracy: 0.9919 - val_loss: 0.1170 - val_accuracy: 0.9602\n"
          ]
        }
      ]
    },
    {
      "cell_type": "code",
      "source": [
        "\n",
        "pd.DataFrame(model_history.history).plot(figsize=(8,5))\n",
        "plt.grid(True)\n",
        "plt.gca().set_ylim(0,1)\n",
        "plt.show()"
      ],
      "metadata": {
        "trusted": true,
        "colab": {
          "base_uri": "https://localhost:8080/",
          "height": 324
        },
        "id": "JvHZbE7zohDJ",
        "outputId": "e2053fb7-4fa9-4e54-b3b2-e1cf4c8cad61"
      },
      "execution_count": 13,
      "outputs": [
        {
          "output_type": "display_data",
          "data": {
            "text/plain": [
              "<Figure size 576x360 with 1 Axes>"
            ],
            "image/png": "[encoded data removed]"
          },
          "metadata": {
            "needs_background": "light"
          }
        }
      ]
    },
    {
      "cell_type": "code",
      "source": [
        "model.save(\"emotionmodel.h5\")"
      ],
      "metadata": {
        "id": "tCY9H0WuuY16"
      },
      "execution_count": 14,
      "outputs": []
    }
  ]
}